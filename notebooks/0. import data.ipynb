{
 "cells": [
  {
   "cell_type": "code",
   "execution_count": 1,
   "metadata": {},
   "outputs": [
    {
     "name": "stdout",
     "output_type": "stream",
     "text": [
      "{'@type': 'Container', 'id': 'web', 'title': 'web'}\n",
      "{   'available': [   {'id': 'cms', 'title': 'Guillotina CMS'},\n",
      "                     {'id': 'dbusers', 'title': 'Guillotina DB Users'}],\n",
      "    'installed': ['cms']}\n",
      "{   'available': [   {'id': 'cms', 'title': 'Guillotina CMS'},\n",
      "                     {'id': 'dbusers', 'title': 'Guillotina DB Users'}],\n",
      "    'installed': ['dbusers', 'cms']}\n"
     ]
    }
   ],
   "source": [
    "import aiohttp\n",
    "import pprint\n",
    "import json\n",
    "pp = pprint.PrettyPrinter(indent=4)\n",
    "headers={\"Authorization\": \"Basic cm9vdDpyb290\"}\n",
    "base_url='http://guillotina:8081/db'\n",
    "async with aiohttp.ClientSession(headers=headers) as sess:\n",
    "    async with sess.post(\n",
    "            base_url,\n",
    "            data=json.dumps({\n",
    "                \"@type\": \"Container\",\n",
    "                \"id\": \"web\"\n",
    "            })) as resp:\n",
    "        pp.pprint(await resp.json())\n",
    "    async with sess.post(\n",
    "            base_url + '/web/@addons',\n",
    "            data=json.dumps({\n",
    "                \"id\": \"cms\"\n",
    "            })) as resp:\n",
    "        pp.pprint(await resp.json())\n",
    "    async with sess.post(\n",
    "            base_url + '/web/@addons',\n",
    "            data=json.dumps({\n",
    "                \"id\": \"dbusers\"\n",
    "            })) as resp:\n",
    "        pp.pprint(await resp.json())"
   ]
  },
  {
   "cell_type": "code",
   "execution_count": 6,
   "metadata": {},
   "outputs": [
    {
     "name": "stdout",
     "output_type": "stream",
     "text": [
      "2579 good, 113 conflicts, 0 bad - 2692 / 2579 complete.\r"
     ]
    }
   ],
   "source": [
    "import csv\n",
    "import sys\n",
    "csvfile = open('/app/raw_data/Articles.csv', encoding='iso8859-1')\n",
    "articles = csv.reader(csvfile, delimiter=',')\n",
    "\n",
    "# Pass heading\n",
    "next(articles)\n",
    "total_articles = 2579\n",
    "good = 0\n",
    "conflict = 0\n",
    "errors = 0\n",
    "\n",
    "async with aiohttp.ClientSession(headers=headers) as sess:\n",
    "    async with sess.post(\n",
    "            base_url + '/web',\n",
    "            data=json.dumps({\n",
    "                \"@type\": \"Folder\",\n",
    "                \"id\": \"articles\"\n",
    "            })) as resp:\n",
    "        if resp.status == 201:\n",
    "            pp.pprint(await resp.json())\n",
    "    for article in articles:\n",
    "        async with sess.post(\n",
    "                base_url + '/web/articles',\n",
    "                data=json.dumps({\n",
    "                    \"@type\": \"Document\",\n",
    "                    \"title\": article[2],\n",
    "                    \"text\": {\n",
    "                        \"content_type\": \"text\",\n",
    "                        \"encoding\": \"iso8859-1\",\n",
    "                        \"data\": article[0]\n",
    "                    },\n",
    "                    \"guillotina.behaviors.dublincore.IDublinCore\": {\n",
    "                        'effective_data': article[1],\n",
    "                        'tags': [article[3]]\n",
    "                    }\n",
    "                })) as resp:\n",
    "            if resp.status == 201:\n",
    "                good += 1\n",
    "            elif resp.status == 409:\n",
    "                conflict += 1\n",
    "            else:\n",
    "                errors += 1\n",
    "            print('{} good, {} conflicts, {} bad - {} / {} complete.'.format(\n",
    "                good, conflict, errors, good + conflict + errors, total_articles), end='\\r')\n",
    "            sys.stdout.flush()\n",
    "\n",
    "csvfile.close()"
   ]
  },
  {
   "cell_type": "code",
   "execution_count": null,
   "metadata": {},
   "outputs": [],
   "source": []
  }
 ],
 "metadata": {
  "kernelspec": {
   "display_name": "Python 3",
   "language": "python",
   "name": "python3"
  },
  "language_info": {
   "codemirror_mode": {
    "name": "ipython",
    "version": 3
   },
   "file_extension": ".py",
   "mimetype": "text/x-python",
   "name": "python",
   "nbconvert_exporter": "python",
   "pygments_lexer": "ipython3",
   "version": "3.6.6"
  }
 },
 "nbformat": 4,
 "nbformat_minor": 2
}
