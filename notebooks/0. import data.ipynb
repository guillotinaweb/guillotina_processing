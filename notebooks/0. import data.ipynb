{
 "cells": [
  {
   "cell_type": "code",
   "execution_count": 1,
   "metadata": {},
   "outputs": [
    {
     "name": "stdout",
     "output_type": "stream",
     "text": [
      "{'message': 'Container with id already exists'}\n",
      "{   'details': 'Addon already installed',\n",
      "    'error': {'message': 'Addon already installed', 'type': 'Duplicate'},\n",
      "    'reason': 'alreadyInstalled',\n",
      "    'type': 'Duplicate'}\n",
      "{   'details': 'Addon already installed',\n",
      "    'error': {'message': 'Addon already installed', 'type': 'Duplicate'},\n",
      "    'reason': 'alreadyInstalled',\n",
      "    'type': 'Duplicate'}\n"
     ]
    }
   ],
   "source": [
    "import aiohttp\n",
    "import pprint\n",
    "import json\n",
    "pp = pprint.PrettyPrinter(indent=4)\n",
    "headers={\"Authorization\": \"Basic cm9vdDpyb290\"}\n",
    "base_url='http://guillotina:8081/db'\n",
    "async with aiohttp.ClientSession(headers=headers) as sess:\n",
    "    async with sess.post(\n",
    "            base_url,\n",
    "            data=json.dumps({\n",
    "                \"@type\": \"Container\",\n",
    "                \"id\": \"cms\"\n",
    "            })) as resp:\n",
    "        pp.pprint(await resp.json())\n",
    "    async with sess.post(\n",
    "            base_url + '/cms/@addons',\n",
    "            data=json.dumps({\n",
    "                \"id\": \"cms\"\n",
    "            })) as resp:\n",
    "        pp.pprint(await resp.json())\n",
    "    async with sess.post(\n",
    "            base_url + '/cms/@addons',\n",
    "            data=json.dumps({\n",
    "                \"id\": \"dbusers\"\n",
    "            })) as resp:\n",
    "        pp.pprint(await resp.json())"
   ]
  },
  {
   "cell_type": "code",
   "execution_count": 2,
   "metadata": {},
   "outputs": [
    {
     "name": "stdout",
     "output_type": "stream",
     "text": [
      "0 good, 2692 conflicts, 0 bad - 2692 / 2579 complete.\r"
     ]
    }
   ],
   "source": [
    "import csv\n",
    "import sys\n",
    "import uuid\n",
    "csvfile = open('/app/raw_data/Articles.csv', encoding='iso8859-1')\n",
    "articles = csv.reader(csvfile, delimiter=',')\n",
    "\n",
    "# Pass heading\n",
    "next(articles)\n",
    "total_articles = 2579\n",
    "good = 0\n",
    "conflict = 0\n",
    "errors = 0\n",
    "\n",
    "async with aiohttp.ClientSession(headers=headers) as sess:\n",
    "    async with sess.post(\n",
    "            base_url + '/cms',\n",
    "            data=json.dumps({\n",
    "                \"@type\": \"Folder\",\n",
    "                \"id\": \"articles\"\n",
    "            })) as resp:\n",
    "        if resp.status == 201:\n",
    "            pp.pprint(await resp.json())\n",
    "    for article in articles:\n",
    "        uid = uuid.uuid4().hex\n",
    "        async with sess.post(\n",
    "                base_url + '/cms/articles',\n",
    "                data=json.dumps({\n",
    "                    \"@type\": \"Document\",\n",
    "                    \"title\": article[2],\n",
    "                    \"text\": {\n",
    "                        \"content_type\": \"text\",\n",
    "                        \"encoding\": \"iso8859-1\",\n",
    "                        \"data\": article[0]\n",
    "                    },\n",
    "                    \"guillotina_cms.interfaces.tiles.ITiles\": {\n",
    "                        \"tiles\": {\n",
    "                            uid + \"title\": {\"@type\": \"title\"},\n",
    "                            uid + \"body\": {\"@type\": \"text\"}\n",
    "                        },\n",
    "                        \"tiles_layout\": {\n",
    "                            \"items\": [\n",
    "                                uid + \"title\",\n",
    "                                uid + \"body\"\n",
    "                            ]\n",
    "                        }\n",
    "                    },\n",
    "                    \"guillotina.behaviors.dublincore.IDublinCore\": {\n",
    "                        'effective_data': article[1],\n",
    "                        'tags': [article[3]]\n",
    "                    }\n",
    "                })) as resp:\n",
    "            if resp.status == 201:\n",
    "                good += 1\n",
    "            elif resp.status == 409:\n",
    "                conflict += 1\n",
    "            else:\n",
    "                errors += 1\n",
    "            print('{} good, {} conflicts, {} bad - {} / {} complete.'.format(\n",
    "                good, conflict, errors, good + conflict + errors, total_articles), end='\\r')\n",
    "            sys.stdout.flush()\n",
    "\n",
    "csvfile.close()"
   ]
  },
  {
   "cell_type": "code",
   "execution_count": null,
   "metadata": {},
   "outputs": [],
   "source": []
  },
  {
   "cell_type": "code",
   "execution_count": null,
   "metadata": {},
   "outputs": [],
   "source": []
  },
  {
   "cell_type": "code",
   "execution_count": null,
   "metadata": {},
   "outputs": [],
   "source": []
  }
 ],
 "metadata": {
  "kernelspec": {
   "display_name": "Python 3",
   "language": "python",
   "name": "python3"
  },
  "language_info": {
   "codemirror_mode": {
    "name": "ipython",
    "version": 3
   },
   "file_extension": ".py",
   "mimetype": "text/x-python",
   "name": "python",
   "nbconvert_exporter": "python",
   "pygments_lexer": "ipython3",
   "version": "3.6.6"
  }
 },
 "nbformat": 4,
 "nbformat_minor": 2
}
